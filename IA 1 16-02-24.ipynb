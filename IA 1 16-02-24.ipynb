{
 "cells": [
  {
   "cell_type": "code",
   "execution_count": 0,
   "metadata": {
    "application/vnd.databricks.v1+cell": {
     "cellMetadata": {
      "byteLimit": 2048000,
      "rowLimit": 10000
     },
     "inputWidgets": {},
     "nuid": "81248551-2578-4da5-b3e7-69ac7e2731d4",
     "showTitle": false,
     "title": ""
    }
   },
   "outputs": [
    {
     "output_type": "display_data",
     "data": {
      "text/html": [
       "<style scoped>\n",
       "  .ansiout {\n",
       "    display: block;\n",
       "    unicode-bidi: embed;\n",
       "    white-space: pre-wrap;\n",
       "    word-wrap: break-word;\n",
       "    word-break: break-all;\n",
       "    font-family: \"Menlo\", \"Monaco\", \"Consolas\", \"Ubuntu Mono\", \"Source Code Pro\", monospace;\n",
       "    font-size: 13px;\n",
       "    color: #555;\n",
       "    margin-left: 4px;\n",
       "    line-height: 19px;\n",
       "  }\n",
       "</style>\n",
       "<div class=\"ansiout\">(3,4)\n",
       "(4,5)\n",
       "(5,6)\n",
       "listOfTuples: List[(Int, Int)] = List((1,2), (2,3), (3,4), (4,5), (5,6))\n",
       "filteredList: List[(Int, Int)] = List((3,4), (4,5), (5,6))\n",
       "</div>"
      ]
     },
     "metadata": {
      "application/vnd.databricks.v1+output": {
       "addedWidgets": {},
       "arguments": {},
       "data": "<div class=\"ansiout\">(3,4)\n(4,5)\n(5,6)\nlistOfTuples: List[(Int, Int)] = List((1,2), (2,3), (3,4), (4,5), (5,6))\nfilteredList: List[(Int, Int)] = List((3,4), (4,5), (5,6))\n</div>",
       "datasetInfos": [],
       "metadata": {
        "isDbfsCommandResult": false
       },
       "removedWidgets": [],
       "type": "html"
      }
     },
     "output_type": "display_data"
    }
   ],
   "source": [
    "%scala\n",
    "val listOfTuples = List((1, 2), (2, 3), (3, 4), (4, 5), (5, 6))\n",
    "val filteredList = listOfTuples.filter(x1 => x1._2 > 3)\n",
    "filteredList.foreach(println)"
   ]
  },
  {
   "cell_type": "code",
   "execution_count": 0,
   "metadata": {
    "application/vnd.databricks.v1+cell": {
     "cellMetadata": {
      "byteLimit": 2048000,
      "rowLimit": 10000
     },
     "inputWidgets": {},
     "nuid": "72f9f71a-bdcd-4575-900c-102999809870",
     "showTitle": false,
     "title": ""
    }
   },
   "outputs": [
    {
     "output_type": "display_data",
     "data": {
      "text/html": [
       "<style scoped>\n",
       "  .ansiout {\n",
       "    display: block;\n",
       "    unicode-bidi: embed;\n",
       "    white-space: pre-wrap;\n",
       "    word-wrap: break-word;\n",
       "    word-break: break-all;\n",
       "    font-family: \"Menlo\", \"Monaco\", \"Consolas\", \"Ubuntu Mono\", \"Source Code Pro\", monospace;\n",
       "    font-size: 13px;\n",
       "    color: #555;\n",
       "    margin-left: 4px;\n",
       "    line-height: 19px;\n",
       "  }\n",
       "</style>\n",
       "<div class=\"ansiout\">data: org.apache.spark.rdd.RDD[String] = ParallelCollectionRDD[0] at parallelize at command-3952862224164040:1\n",
       "result: Array[Char] = Array(A, P, P, L, E, B, A, N, A, N, A, G, R, A, P, E, O, R, A, N, G, E)\n",
       "</div>"
      ]
     },
     "metadata": {
      "application/vnd.databricks.v1+output": {
       "addedWidgets": {},
       "arguments": {},
       "data": "<div class=\"ansiout\">data: org.apache.spark.rdd.RDD[String] = ParallelCollectionRDD[0] at parallelize at command-3952862224164040:1\nresult: Array[Char] = Array(A, P, P, L, E, B, A, N, A, N, A, G, R, A, P, E, O, R, A, N, G, E)\n</div>",
       "datasetInfos": [],
       "metadata": {
        "isDbfsCommandResult": false
       },
       "removedWidgets": [],
       "type": "html"
      }
     },
     "output_type": "display_data"
    }
   ],
   "source": [
    "%scala\n",
    "val data = sc.parallelize(List(\"apple\", \"banana\", \"grape\", \"orange\"))\n",
    "val result = data.flatMap(_.toUpperCase).collect()"
   ]
  },
  {
   "cell_type": "code",
   "execution_count": 0,
   "metadata": {
    "application/vnd.databricks.v1+cell": {
     "cellMetadata": {
      "byteLimit": 2048000,
      "rowLimit": 10000
     },
     "inputWidgets": {},
     "nuid": "45d0031f-f74d-4bd7-861f-9fa185845308",
     "showTitle": false,
     "title": ""
    }
   },
   "outputs": [
    {
     "output_type": "display_data",
     "data": {
      "text/html": [
       "<style scoped>\n",
       "  .ansiout {\n",
       "    display: block;\n",
       "    unicode-bidi: embed;\n",
       "    white-space: pre-wrap;\n",
       "    word-wrap: break-word;\n",
       "    word-break: break-all;\n",
       "    font-family: \"Menlo\", \"Monaco\", \"Consolas\", \"Ubuntu Mono\", \"Source Code Pro\", monospace;\n",
       "    font-size: 13px;\n",
       "    color: #555;\n",
       "    margin-left: 4px;\n",
       "    line-height: 19px;\n",
       "  }\n",
       "</style>\n",
       "<div class=\"ansiout\">6\n",
       "sumEven: (arr: Array[Int])Int\n",
       "numbers: Array[Int] = Array(1, 2, 3, 4, 5)\n",
       "</div>"
      ]
     },
     "metadata": {
      "application/vnd.databricks.v1+output": {
       "addedWidgets": {},
       "arguments": {},
       "data": "<div class=\"ansiout\">6\nsumEven: (arr: Array[Int])Int\nnumbers: Array[Int] = Array(1, 2, 3, 4, 5)\n</div>",
       "datasetInfos": [],
       "metadata": {
        "isDbfsCommandResult": false
       },
       "removedWidgets": [],
       "type": "html"
      }
     },
     "output_type": "display_data"
    }
   ],
   "source": [
    "%scala\n",
    "def sumEven(arr: Array[Int]): Int = {\n",
    "    arr.filter(_ % 2 == 0).sum\n",
    "    }\n",
    "    val numbers = Array(1, 2, 3, 4, 5)\n",
    "    println(sumEven(numbers))"
   ]
  },
  {
   "cell_type": "code",
   "execution_count": 0,
   "metadata": {
    "application/vnd.databricks.v1+cell": {
     "cellMetadata": {
      "byteLimit": 2048000,
      "rowLimit": 10000
     },
     "inputWidgets": {},
     "nuid": "1c2cebd1-c82c-4a84-ac68-7cd643a5f590",
     "showTitle": false,
     "title": ""
    }
   },
   "outputs": [
    {
     "output_type": "display_data",
     "data": {
      "text/html": [
       "<style scoped>\n",
       "  .ansiout {\n",
       "    display: block;\n",
       "    unicode-bidi: embed;\n",
       "    white-space: pre-wrap;\n",
       "    word-wrap: break-word;\n",
       "    word-break: break-all;\n",
       "    font-family: \"Menlo\", \"Monaco\", \"Consolas\", \"Ubuntu Mono\", \"Source Code Pro\", monospace;\n",
       "    font-size: 13px;\n",
       "    color: #555;\n",
       "    margin-left: 4px;\n",
       "    line-height: 19px;\n",
       "  }\n",
       "</style>\n",
       "<div class=\"ansiout\">data: org.apache.spark.rdd.RDD[Int] = ParallelCollectionRDD[2] at parallelize at command-3952862224164042:1\n",
       "sampledData: org.apache.spark.rdd.RDD[Int] = PartitionwiseSampledRDD[3] at sample at command-3952862224164042:2\n",
       "result: Array[Int] = Array(2, 2, 3, 3, 5, 5, 6, 6, 8, 9, 9, 9, 9, 11, 11, 12, 12, 13, 14, 17, 17, 18, 18, 22, 22, 23, 25, 26, 27, 28, 28, 28, 29, 30, 30, 30, 30, 31, 33, 33, 36, 37, 37, 38, 38, 39, 40, 40, 42, 43, 44, 44, 46, 47, 47, 47, 48, 50, 53, 53, 53, 54, 54, 55, 55, 57, 57, 59, 60, 61, 62, 62, 63, 64, 65, 66, 67, 68, 68, 69, 69, 70, 71, 71, 71, 72, 73, 74, 75, 75, 77, 78, 80, 82, 83, 83, 83, 84, 84, 84, 85, 85, 86, 86, 87, 87, 87, 88, 89, 90, 91, 91, 92, 92, 92, 93, 94, 95, 96, 97, 97, 98, 98, 99, 99, 99, 100)\n",
       "</div>"
      ]
     },
     "metadata": {
      "application/vnd.databricks.v1+output": {
       "addedWidgets": {},
       "arguments": {},
       "data": "<div class=\"ansiout\">data: org.apache.spark.rdd.RDD[Int] = ParallelCollectionRDD[2] at parallelize at command-3952862224164042:1\nsampledData: org.apache.spark.rdd.RDD[Int] = PartitionwiseSampledRDD[3] at sample at command-3952862224164042:2\nresult: Array[Int] = Array(2, 2, 3, 3, 5, 5, 6, 6, 8, 9, 9, 9, 9, 11, 11, 12, 12, 13, 14, 17, 17, 18, 18, 22, 22, 23, 25, 26, 27, 28, 28, 28, 29, 30, 30, 30, 30, 31, 33, 33, 36, 37, 37, 38, 38, 39, 40, 40, 42, 43, 44, 44, 46, 47, 47, 47, 48, 50, 53, 53, 53, 54, 54, 55, 55, 57, 57, 59, 60, 61, 62, 62, 63, 64, 65, 66, 67, 68, 68, 69, 69, 70, 71, 71, 71, 72, 73, 74, 75, 75, 77, 78, 80, 82, 83, 83, 83, 84, 84, 84, 85, 85, 86, 86, 87, 87, 87, 88, 89, 90, 91, 91, 92, 92, 92, 93, 94, 95, 96, 97, 97, 98, 98, 99, 99, 99, 100)\n</div>",
       "datasetInfos": [],
       "metadata": {
        "isDbfsCommandResult": false
       },
       "removedWidgets": [],
       "type": "html"
      }
     },
     "output_type": "display_data"
    }
   ],
   "source": [
    "%scala\n",
    "val data = sc.parallelize(1 to 100)\n",
    "val sampledData = data.sample(true, 1.2)\n",
    "val result = sampledData.collect()"
   ]
  }
 ],
 "metadata": {
  "application/vnd.databricks.v1+notebook": {
   "dashboards": [],
   "language": "python",
   "notebookMetadata": {
    "pythonIndentUnit": 4
   },
   "notebookName": "IA 1 16-02-24",
   "widgets": {}
  }
 },
 "nbformat": 4,
 "nbformat_minor": 0
}
