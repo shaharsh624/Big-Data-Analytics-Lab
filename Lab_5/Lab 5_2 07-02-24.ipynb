{
 "cells": [
  {
   "cell_type": "code",
   "execution_count": 0,
   "metadata": {
    "application/vnd.databricks.v1+cell": {
     "cellMetadata": {
      "byteLimit": 2048000,
      "rowLimit": 10000
     },
     "inputWidgets": {},
     "nuid": "f4a0e4ed-4a7e-40d0-8e45-3e62f271ed1f",
     "showTitle": false,
     "title": ""
    }
   },
   "outputs": [],
   "source": [
    "from pyspark.sql import SparkSession"
   ]
  },
  {
   "cell_type": "code",
   "execution_count": 0,
   "metadata": {
    "application/vnd.databricks.v1+cell": {
     "cellMetadata": {
      "byteLimit": 2048000,
      "rowLimit": 10000
     },
     "inputWidgets": {},
     "nuid": "c802cee8-4197-436c-b865-80b417b28324",
     "showTitle": false,
     "title": ""
    }
   },
   "outputs": [],
   "source": [
    "spark = SparkSession.builder.appName('data_processing').getOrCreate()"
   ]
  },
  {
   "cell_type": "code",
   "execution_count": 0,
   "metadata": {
    "application/vnd.databricks.v1+cell": {
     "cellMetadata": {
      "byteLimit": 2048000,
      "rowLimit": 10000
     },
     "inputWidgets": {},
     "nuid": "7aadd52b-d1c1-4a49-bfd7-56cef8d21ae0",
     "showTitle": false,
     "title": ""
    }
   },
   "outputs": [],
   "source": [
    "df = spark.read.csv('dbfs:/FileStore/shared_uploads/harsh.sce21@sot.pdpu.ac.in/file.csv', inferSchema=True, header=True)"
   ]
  },
  {
   "cell_type": "code",
   "execution_count": 0,
   "metadata": {
    "application/vnd.databricks.v1+cell": {
     "cellMetadata": {
      "byteLimit": 2048000,
      "rowLimit": 10000
     },
     "inputWidgets": {},
     "nuid": "5b39c500-20f7-4d85-b439-7bf6eb6b22c2",
     "showTitle": false,
     "title": ""
    }
   },
   "outputs": [
    {
     "output_type": "stream",
     "name": "stdout",
     "output_type": "stream",
     "text": [
      "Out[33]: ['ratings', 'age', 'experience', 'family', 'mobile']"
     ]
    }
   ],
   "source": [
    "df.columns"
   ]
  },
  {
   "cell_type": "code",
   "execution_count": 0,
   "metadata": {
    "application/vnd.databricks.v1+cell": {
     "cellMetadata": {
      "byteLimit": 2048000,
      "rowLimit": 10000
     },
     "inputWidgets": {},
     "nuid": "688de95b-4155-4daf-9a16-9da5fceae6f8",
     "showTitle": false,
     "title": ""
    }
   },
   "outputs": [
    {
     "output_type": "stream",
     "name": "stdout",
     "output_type": "stream",
     "text": [
      "+-------+---+----------+-------+------------+\n|ratings|age|experience| family|      mobile|\n+-------+---+----------+-------+------------+\n|    4.5| 30|         5|married|      iPhone|\n|    3.8| 25|         3| single|     Android|\n|    5.0| 35|         8|married|     Samsung|\n|    4.2| 28|         6| single|Google Pixel|\n|    4.7| 32|         7|married|      iPhone|\n|    3.5| 22|         2| single|     OnePlus|\n|    4.0| 27|         4|married|Google Pixel|\n|    4.8| 33|         9| single|      iPhone|\n|    3.9| 26|         5|married|     Samsung|\n|    4.4| 29|         6| single|     Android|\n|    4.6| 31|         8|married|     OnePlus|\n|    3.7| 24|         3| single|Google Pixel|\n|    4.9| 34|         7|married|      iPhone|\n|    3.6| 23|         4| single|     Samsung|\n|    4.3| 28|         6|married|     Android|\n|    4.1| 30|         5| single|     OnePlus|\n|    3.8| 25|         3|married|Google Pixel|\n|    4.5| 32|         7| single|      iPhone|\n|    4.2| 27|         4|married|     Samsung|\n|    3.9| 29|         6| single|     Android|\n+-------+---+----------+-------+------------+\nonly showing top 20 rows\n\n"
     ]
    }
   ],
   "source": [
    "df.show()"
   ]
  },
  {
   "cell_type": "code",
   "execution_count": 0,
   "metadata": {
    "application/vnd.databricks.v1+cell": {
     "cellMetadata": {
      "byteLimit": 2048000,
      "rowLimit": 10000
     },
     "inputWidgets": {},
     "nuid": "d66eb886-7921-46f2-924b-ad0540e616b3",
     "showTitle": false,
     "title": ""
    }
   },
   "outputs": [
    {
     "output_type": "stream",
     "name": "stdout",
     "output_type": "stream",
     "text": [
      "Out[35]: 5"
     ]
    }
   ],
   "source": [
    "len(df.columns)"
   ]
  },
  {
   "cell_type": "code",
   "execution_count": 0,
   "metadata": {
    "application/vnd.databricks.v1+cell": {
     "cellMetadata": {
      "byteLimit": 2048000,
      "rowLimit": 10000
     },
     "inputWidgets": {},
     "nuid": "54b65244-cd52-43e7-868f-1179cbf03906",
     "showTitle": false,
     "title": ""
    }
   },
   "outputs": [
    {
     "output_type": "stream",
     "name": "stdout",
     "output_type": "stream",
     "text": [
      "Out[36]: 30"
     ]
    }
   ],
   "source": [
    "df.count()"
   ]
  },
  {
   "cell_type": "code",
   "execution_count": 0,
   "metadata": {
    "application/vnd.databricks.v1+cell": {
     "cellMetadata": {
      "byteLimit": 2048000,
      "rowLimit": 10000
     },
     "inputWidgets": {},
     "nuid": "043c2d84-75c5-40e5-bf1a-640b1aa057a4",
     "showTitle": false,
     "title": ""
    }
   },
   "outputs": [
    {
     "output_type": "stream",
     "name": "stdout",
     "output_type": "stream",
     "text": [
      "5 30\n"
     ]
    }
   ],
   "source": [
    "print(len(df.columns), df.count())"
   ]
  },
  {
   "cell_type": "code",
   "execution_count": 0,
   "metadata": {
    "application/vnd.databricks.v1+cell": {
     "cellMetadata": {
      "byteLimit": 2048000,
      "rowLimit": 10000
     },
     "inputWidgets": {},
     "nuid": "a98c1014-cb2b-4605-b2e3-aaf14feb4fd8",
     "showTitle": false,
     "title": ""
    }
   },
   "outputs": [
    {
     "output_type": "stream",
     "name": "stdout",
     "output_type": "stream",
     "text": [
      "root\n |-- ratings: double (nullable = true)\n |-- age: integer (nullable = true)\n |-- experience: integer (nullable = true)\n |-- family: string (nullable = true)\n |-- mobile: string (nullable = true)\n\n"
     ]
    }
   ],
   "source": [
    "df.printSchema()"
   ]
  },
  {
   "cell_type": "code",
   "execution_count": 0,
   "metadata": {
    "application/vnd.databricks.v1+cell": {
     "cellMetadata": {
      "byteLimit": 2048000,
      "rowLimit": 10000
     },
     "inputWidgets": {},
     "nuid": "b910f045-ed87-4e1c-a8e0-c45b6b3e64cd",
     "showTitle": false,
     "title": ""
    }
   },
   "outputs": [
    {
     "output_type": "stream",
     "name": "stdout",
     "output_type": "stream",
     "text": [
      "+---+------------+\n|age|      mobile|\n+---+------------+\n| 30|      iPhone|\n| 25|     Android|\n| 35|     Samsung|\n| 28|Google Pixel|\n+---+------------+\nonly showing top 4 rows\n\n"
     ]
    }
   ],
   "source": [
    "df.select('age', 'mobile').show(4)"
   ]
  },
  {
   "cell_type": "code",
   "execution_count": 0,
   "metadata": {
    "application/vnd.databricks.v1+cell": {
     "cellMetadata": {
      "byteLimit": 2048000,
      "rowLimit": 10000
     },
     "inputWidgets": {},
     "nuid": "6d6be1c1-467a-47de-83c5-9aaab67244d8",
     "showTitle": false,
     "title": ""
    }
   },
   "outputs": [
    {
     "output_type": "stream",
     "name": "stdout",
     "output_type": "stream",
     "text": [
      "+-------+------------------+------------------+-----------------+-------+-------+\n|summary|           ratings|               age|       experience| family| mobile|\n+-------+------------------+------------------+-----------------+-------+-------+\n|  count|                30|                30|               30|     30|     30|\n|   mean|               4.2|28.533333333333335|5.466666666666667|   null|   null|\n| stddev|0.4510524092187837|3.8122609214655463|1.995397001952819|   null|   null|\n|    min|               3.4|                22|                2|married|Android|\n|    max|               5.0|                35|                9| single| iPhone|\n+-------+------------------+------------------+-----------------+-------+-------+\n\n"
     ]
    }
   ],
   "source": [
    "df.describe().show()"
   ]
  },
  {
   "cell_type": "code",
   "execution_count": 0,
   "metadata": {
    "application/vnd.databricks.v1+cell": {
     "cellMetadata": {
      "byteLimit": 2048000,
      "rowLimit": 10000
     },
     "inputWidgets": {},
     "nuid": "9ec8640b-d5ab-4187-98e3-3fb164bcedfa",
     "showTitle": false,
     "title": ""
    }
   },
   "outputs": [],
   "source": [
    "from pyspark.sql.types import StringType, DoubleType, IntegerType"
   ]
  },
  {
   "cell_type": "code",
   "execution_count": 0,
   "metadata": {
    "application/vnd.databricks.v1+cell": {
     "cellMetadata": {
      "byteLimit": 2048000,
      "rowLimit": 10000
     },
     "inputWidgets": {},
     "nuid": "3ef0c56e-a681-4d3f-b32c-dd1d4284a904",
     "showTitle": false,
     "title": ""
    }
   },
   "outputs": [
    {
     "output_type": "stream",
     "name": "stdout",
     "output_type": "stream",
     "text": [
      "+-------+---+----------+-------+------------+------------------+\n|ratings|age|experience|family |mobile      |age_after_10_years|\n+-------+---+----------+-------+------------+------------------+\n|4.5    |30 |5         |married|iPhone      |40                |\n|3.8    |25 |3         |single |Android     |35                |\n|5.0    |35 |8         |married|Samsung     |45                |\n|4.2    |28 |6         |single |Google Pixel|38                |\n|4.7    |32 |7         |married|iPhone      |42                |\n|3.5    |22 |2         |single |OnePlus     |32                |\n|4.0    |27 |4         |married|Google Pixel|37                |\n|4.8    |33 |9         |single |iPhone      |43                |\n|3.9    |26 |5         |married|Samsung     |36                |\n|4.4    |29 |6         |single |Android     |39                |\n+-------+---+----------+-------+------------+------------------+\nonly showing top 10 rows\n\n"
     ]
    }
   ],
   "source": [
    "df.withColumn(\"age_after_10_years\", (df['age']+10)).show(10, False)"
   ]
  },
  {
   "cell_type": "code",
   "execution_count": 0,
   "metadata": {
    "application/vnd.databricks.v1+cell": {
     "cellMetadata": {
      "byteLimit": 2048000,
      "rowLimit": 10000
     },
     "inputWidgets": {},
     "nuid": "faf0e6e2-17bf-4308-bf22-07dbd21c8452",
     "showTitle": false,
     "title": ""
    }
   },
   "outputs": [
    {
     "output_type": "stream",
     "name": "stdout",
     "output_type": "stream",
     "text": [
      "+-------+---+----------+-------+------------+----------+\n|ratings|age|experience|family |mobile      |age_double|\n+-------+---+----------+-------+------------+----------+\n|4.5    |30 |5         |married|iPhone      |30.0      |\n|3.8    |25 |3         |single |Android     |25.0      |\n|5.0    |35 |8         |married|Samsung     |35.0      |\n|4.2    |28 |6         |single |Google Pixel|28.0      |\n|4.7    |32 |7         |married|iPhone      |32.0      |\n|3.5    |22 |2         |single |OnePlus     |22.0      |\n|4.0    |27 |4         |married|Google Pixel|27.0      |\n|4.8    |33 |9         |single |iPhone      |33.0      |\n|3.9    |26 |5         |married|Samsung     |26.0      |\n|4.4    |29 |6         |single |Android     |29.0      |\n+-------+---+----------+-------+------------+----------+\nonly showing top 10 rows\n\n"
     ]
    }
   ],
   "source": [
    "df.withColumn(\"age_double\", (df['age'].cast(DoubleType()))).show(10, False)"
   ]
  },
  {
   "cell_type": "code",
   "execution_count": 0,
   "metadata": {
    "application/vnd.databricks.v1+cell": {
     "cellMetadata": {
      "byteLimit": 2048000,
      "rowLimit": 10000
     },
     "inputWidgets": {},
     "nuid": "b5ba26dc-873e-467e-82d7-b7d5f4087244",
     "showTitle": false,
     "title": ""
    }
   },
   "outputs": [
    {
     "output_type": "stream",
     "name": "stdout",
     "output_type": "stream",
     "text": [
      "+-------+---+----------+-------+------+\n|ratings|age|experience| family|mobile|\n+-------+---+----------+-------+------+\n|    4.5| 30|         5|married|iPhone|\n|    4.7| 32|         7|married|iPhone|\n|    4.8| 33|         9| single|iPhone|\n|    4.9| 34|         7|married|iPhone|\n|    4.5| 32|         7| single|iPhone|\n|    4.0| 26|         5| single|iPhone|\n|    4.4| 28|         6|married|iPhone|\n+-------+---+----------+-------+------+\n\n"
     ]
    }
   ],
   "source": [
    "df.filter(df['mobile']=='iPhone').show()"
   ]
  },
  {
   "cell_type": "code",
   "execution_count": 0,
   "metadata": {
    "application/vnd.databricks.v1+cell": {
     "cellMetadata": {
      "byteLimit": 2048000,
      "rowLimit": 10000
     },
     "inputWidgets": {},
     "nuid": "02677428-1bb0-4188-9999-1bcf9ca7328a",
     "showTitle": false,
     "title": ""
    }
   },
   "outputs": [
    {
     "output_type": "stream",
     "name": "stdout",
     "output_type": "stream",
     "text": [
      "+---+-------+\n|age| family|\n+---+-------+\n| 30|married|\n| 32|married|\n| 33| single|\n| 34|married|\n| 32| single|\n| 26| single|\n| 28|married|\n+---+-------+\n\n"
     ]
    }
   ],
   "source": [
    "df.filter(df['mobile']=='iPhone').select('age', 'family').show()"
   ]
  },
  {
   "cell_type": "code",
   "execution_count": 0,
   "metadata": {
    "application/vnd.databricks.v1+cell": {
     "cellMetadata": {
      "byteLimit": 2048000,
      "rowLimit": 10000
     },
     "inputWidgets": {},
     "nuid": "fffe3951-86f6-4be4-8544-c7e1dbebf688",
     "showTitle": false,
     "title": ""
    }
   },
   "outputs": [
    {
     "output_type": "stream",
     "name": "stdout",
     "output_type": "stream",
     "text": [
      "+-------+---+----------+-------+------+\n|ratings|age|experience| family|mobile|\n+-------+---+----------+-------+------+\n|    4.7| 32|         7|married|iPhone|\n|    4.8| 33|         9| single|iPhone|\n|    4.9| 34|         7|married|iPhone|\n|    4.5| 32|         7| single|iPhone|\n|    4.4| 28|         6|married|iPhone|\n+-------+---+----------+-------+------+\n\n"
     ]
    }
   ],
   "source": [
    "df.filter(df['mobile']=='iPhone').filter(df['experience'] > 5).show()"
   ]
  },
  {
   "cell_type": "code",
   "execution_count": 0,
   "metadata": {
    "application/vnd.databricks.v1+cell": {
     "cellMetadata": {
      "byteLimit": 2048000,
      "rowLimit": 10000
     },
     "inputWidgets": {},
     "nuid": "b77dea53-cd77-4c06-a98e-dafb288bd600",
     "showTitle": false,
     "title": ""
    }
   },
   "outputs": [
    {
     "output_type": "display_data",
     "data": {
      "text/plain": [
       "\u001B[0;31m---------------------------------------------------------------------------\u001B[0m\n",
       "\u001B[0;31mTypeError\u001B[0m                                 Traceback (most recent call last)\n",
       "File \u001B[0;32m<command-573613022675253>:1\u001B[0m\n",
       "\u001B[0;32m----> 1\u001B[0m df\u001B[38;5;241m.\u001B[39mfilter(df[\u001B[38;5;124m'\u001B[39m\u001B[38;5;124mmobile\u001B[39m\u001B[38;5;124m'\u001B[39m]\u001B[38;5;241m==\u001B[39m\u001B[38;5;124m'\u001B[39m\u001B[38;5;124miPhone\u001B[39m\u001B[38;5;124m'\u001B[39m) \u001B[38;5;241m&\u001B[39m (\u001B[38;5;28;43mfilter\u001B[39;49m\u001B[43m(\u001B[49m\u001B[43mdf\u001B[49m\u001B[43m[\u001B[49m\u001B[38;5;124;43m'\u001B[39;49m\u001B[38;5;124;43mexperience\u001B[39;49m\u001B[38;5;124;43m'\u001B[39;49m\u001B[43m]\u001B[49m\u001B[43m \u001B[49m\u001B[38;5;241;43m>\u001B[39;49m\u001B[43m \u001B[49m\u001B[38;5;241;43m5\u001B[39;49m\u001B[43m)\u001B[49m)\u001B[38;5;241m.\u001B[39mshow()\n",
       "\n",
       "\u001B[0;31mTypeError\u001B[0m: filter expected 2 arguments, got 1"
      ]
     },
     "metadata": {
      "application/vnd.databricks.v1+output": {
       "arguments": {},
       "data": "\u001B[0;31m---------------------------------------------------------------------------\u001B[0m\n\u001B[0;31mTypeError\u001B[0m                                 Traceback (most recent call last)\nFile \u001B[0;32m<command-573613022675253>:1\u001B[0m\n\u001B[0;32m----> 1\u001B[0m df\u001B[38;5;241m.\u001B[39mfilter(df[\u001B[38;5;124m'\u001B[39m\u001B[38;5;124mmobile\u001B[39m\u001B[38;5;124m'\u001B[39m]\u001B[38;5;241m==\u001B[39m\u001B[38;5;124m'\u001B[39m\u001B[38;5;124miPhone\u001B[39m\u001B[38;5;124m'\u001B[39m) \u001B[38;5;241m&\u001B[39m (\u001B[38;5;28;43mfilter\u001B[39;49m\u001B[43m(\u001B[49m\u001B[43mdf\u001B[49m\u001B[43m[\u001B[49m\u001B[38;5;124;43m'\u001B[39;49m\u001B[38;5;124;43mexperience\u001B[39;49m\u001B[38;5;124;43m'\u001B[39;49m\u001B[43m]\u001B[49m\u001B[43m \u001B[49m\u001B[38;5;241;43m>\u001B[39;49m\u001B[43m \u001B[49m\u001B[38;5;241;43m5\u001B[39;49m\u001B[43m)\u001B[49m)\u001B[38;5;241m.\u001B[39mshow()\n\n\u001B[0;31mTypeError\u001B[0m: filter expected 2 arguments, got 1",
       "errorSummary": "<span class='ansi-red-fg'>TypeError</span>: filter expected 2 arguments, got 1",
       "errorTraceType": "ansi",
       "metadata": {},
       "type": "ipynbError"
      }
     },
     "output_type": "display_data"
    }
   ],
   "source": [
    "# df.filter(df['mobile']=='iPhone')&(filter(df['experience'] > 5)).show()"
   ]
  },
  {
   "cell_type": "code",
   "execution_count": 0,
   "metadata": {
    "application/vnd.databricks.v1+cell": {
     "cellMetadata": {
      "byteLimit": 2048000,
      "rowLimit": 10000
     },
     "inputWidgets": {},
     "nuid": "cb90b7c8-32e5-4ce8-b694-5e1c97067f4e",
     "showTitle": false,
     "title": ""
    }
   },
   "outputs": [
    {
     "output_type": "stream",
     "name": "stdout",
     "output_type": "stream",
     "text": [
      "+------------+\n|      mobile|\n+------------+\n|      iPhone|\n|     Samsung|\n|     OnePlus|\n|     Android|\n|Google Pixel|\n+------------+\n\n"
     ]
    }
   ],
   "source": [
    "df.select('mobile').distinct().show()"
   ]
  },
  {
   "cell_type": "code",
   "execution_count": 0,
   "metadata": {
    "application/vnd.databricks.v1+cell": {
     "cellMetadata": {
      "byteLimit": 2048000,
      "rowLimit": 10000
     },
     "inputWidgets": {},
     "nuid": "6ca2a0e1-6a48-42d6-925b-94853b71a5c8",
     "showTitle": false,
     "title": ""
    }
   },
   "outputs": [
    {
     "output_type": "stream",
     "name": "stdout",
     "output_type": "stream",
     "text": [
      "+------------+-----+\n|mobile      |count|\n+------------+-----+\n|iPhone      |7    |\n|Samsung     |6    |\n|OnePlus     |5    |\n|Android     |6    |\n|Google Pixel|6    |\n+------------+-----+\n\n"
     ]
    }
   ],
   "source": [
    "df.groupBy('mobile').count().show(5, False)"
   ]
  },
  {
   "cell_type": "code",
   "execution_count": 0,
   "metadata": {
    "application/vnd.databricks.v1+cell": {
     "cellMetadata": {
      "byteLimit": 2048000,
      "rowLimit": 10000
     },
     "inputWidgets": {},
     "nuid": "0afaf454-c353-4809-a8ca-7f3eea336e60",
     "showTitle": false,
     "title": ""
    }
   },
   "outputs": [
    {
     "output_type": "stream",
     "name": "stdout",
     "output_type": "stream",
     "text": [
      "+------------+-----+\n|mobile      |count|\n+------------+-----+\n|iPhone      |7    |\n|Samsung     |6    |\n|Android     |6    |\n|Google Pixel|6    |\n|OnePlus     |5    |\n+------------+-----+\n\n"
     ]
    }
   ],
   "source": [
    "df.groupBy('mobile').count().orderBy('count', ascending=False).show(5, False)"
   ]
  },
  {
   "cell_type": "code",
   "execution_count": 0,
   "metadata": {
    "application/vnd.databricks.v1+cell": {
     "cellMetadata": {
      "byteLimit": 2048000,
      "rowLimit": 10000
     },
     "inputWidgets": {},
     "nuid": "1764de67-3900-42ff-8d06-3cb2c8a5c6a3",
     "showTitle": false,
     "title": ""
    }
   },
   "outputs": [
    {
     "output_type": "stream",
     "name": "stdout",
     "output_type": "stream",
     "text": [
      "+------------+------------------+--------+---------------+\n|mobile      |sum(ratings)      |sum(age)|sum(experience)|\n+------------+------------------+--------+---------------+\n|iPhone      |31.799999999999997|215     |46             |\n|Samsung     |24.199999999999996|165     |28             |\n|OnePlus     |20.499999999999996|138     |26             |\n|Android     |24.8              |171     |34             |\n|Google Pixel|24.7              |167     |30             |\n+------------+------------------+--------+---------------+\n\n"
     ]
    }
   ],
   "source": [
    "df.groupBy('mobile').sum().show(5, False)"
   ]
  },
  {
   "cell_type": "code",
   "execution_count": 0,
   "metadata": {
    "application/vnd.databricks.v1+cell": {
     "cellMetadata": {
      "byteLimit": 2048000,
      "rowLimit": 10000
     },
     "inputWidgets": {},
     "nuid": "e8940948-8cfa-4f3d-8747-bbdf54afd928",
     "showTitle": false,
     "title": ""
    }
   },
   "outputs": [
    {
     "output_type": "stream",
     "name": "stdout",
     "output_type": "stream",
     "text": [
      "+------------+-----------------+------------------+-----------------+\n|mobile      |avg(ratings)     |avg(age)          |avg(experience)  |\n+------------+-----------------+------------------+-----------------+\n|iPhone      |4.542857142857143|30.714285714285715|6.571428571428571|\n|Samsung     |4.033333333333332|27.5              |4.666666666666667|\n|OnePlus     |4.1              |27.6              |5.2              |\n|Android     |4.133333333333334|28.5              |5.666666666666667|\n|Google Pixel|4.116666666666666|27.833333333333332|5.0              |\n+------------+-----------------+------------------+-----------------+\n\n"
     ]
    }
   ],
   "source": [
    "df.groupBy('mobile').mean().show(5, False)"
   ]
  },
  {
   "cell_type": "code",
   "execution_count": 0,
   "metadata": {
    "application/vnd.databricks.v1+cell": {
     "cellMetadata": {
      "byteLimit": 2048000,
      "rowLimit": 10000
     },
     "inputWidgets": {},
     "nuid": "122e79c3-1a7d-4977-b4e6-b4fede3a4474",
     "showTitle": false,
     "title": ""
    }
   },
   "outputs": [
    {
     "output_type": "stream",
     "name": "stdout",
     "output_type": "stream",
     "text": [
      "+------------+------------+--------+---------------+\n|mobile      |min(ratings)|min(age)|min(experience)|\n+------------+------------+--------+---------------+\n|iPhone      |4.0         |26      |5              |\n|Samsung     |3.4         |23      |2              |\n|OnePlus     |3.5         |22      |2              |\n|Android     |3.6         |25      |3              |\n|Google Pixel|3.7         |24      |3              |\n+------------+------------+--------+---------------+\n\n"
     ]
    }
   ],
   "source": [
    "df.groupBy('mobile').min().show(5, False)"
   ]
  },
  {
   "cell_type": "code",
   "execution_count": 0,
   "metadata": {
    "application/vnd.databricks.v1+cell": {
     "cellMetadata": {
      "byteLimit": 2048000,
      "rowLimit": 10000
     },
     "inputWidgets": {},
     "nuid": "1d8f150c-f3da-4143-bf52-5a958731a1f6",
     "showTitle": false,
     "title": ""
    }
   },
   "outputs": [
    {
     "output_type": "stream",
     "name": "stdout",
     "output_type": "stream",
     "text": [
      "+------------+------------+--------+---------------+\n|mobile      |max(ratings)|max(age)|max(experience)|\n+------------+------------+--------+---------------+\n|iPhone      |4.9         |34      |9              |\n|Samsung     |5.0         |35      |8              |\n|OnePlus     |4.6         |33      |8              |\n|Android     |4.8         |35      |9              |\n|Google Pixel|4.7         |32      |7              |\n+------------+------------+--------+---------------+\n\n"
     ]
    }
   ],
   "source": [
    "df.groupBy('mobile').max().show(5, False)"
   ]
  },
  {
   "cell_type": "code",
   "execution_count": 0,
   "metadata": {
    "application/vnd.databricks.v1+cell": {
     "cellMetadata": {
      "byteLimit": 2048000,
      "rowLimit": 10000
     },
     "inputWidgets": {},
     "nuid": "bbf09a16-37fd-4531-ab77-3c4fe84c47b0",
     "showTitle": false,
     "title": ""
    }
   },
   "outputs": [
    {
     "output_type": "stream",
     "name": "stdout",
     "output_type": "stream",
     "text": [
      "+------------+---------------+\n|mobile      |sum(experience)|\n+------------+---------------+\n|iPhone      |46             |\n|Samsung     |28             |\n|OnePlus     |26             |\n|Android     |34             |\n|Google Pixel|30             |\n+------------+---------------+\n\n"
     ]
    }
   ],
   "source": [
    "df.groupBy('mobile').agg({'experience':'sum'}).show(5, False)"
   ]
  },
  {
   "cell_type": "code",
   "execution_count": 0,
   "metadata": {
    "application/vnd.databricks.v1+cell": {
     "cellMetadata": {},
     "inputWidgets": {},
     "nuid": "14b37ef6-0f0b-4506-8de3-ff7c192d111b",
     "showTitle": false,
     "title": ""
    }
   },
   "outputs": [],
   "source": []
  }
 ],
 "metadata": {
  "application/vnd.databricks.v1+notebook": {
   "dashboards": [],
   "language": "python",
   "notebookMetadata": {
    "pythonIndentUnit": 4
   },
   "notebookName": "Lab 5_2 07-02-24",
   "widgets": {}
  }
 },
 "nbformat": 4,
 "nbformat_minor": 0
}
