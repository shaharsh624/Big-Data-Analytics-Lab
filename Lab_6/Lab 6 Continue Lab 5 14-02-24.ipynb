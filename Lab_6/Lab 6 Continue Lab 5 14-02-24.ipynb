{
 "cells": [
  {
   "cell_type": "code",
   "execution_count": 0,
   "metadata": {
    "application/vnd.databricks.v1+cell": {
     "cellMetadata": {
      "byteLimit": 2048000,
      "rowLimit": 10000
     },
     "inputWidgets": {},
     "nuid": "f4a0e4ed-4a7e-40d0-8e45-3e62f271ed1f",
     "showTitle": false,
     "title": ""
    }
   },
   "outputs": [],
   "source": [
    "from pyspark.sql import SparkSession"
   ]
  },
  {
   "cell_type": "code",
   "execution_count": 0,
   "metadata": {
    "application/vnd.databricks.v1+cell": {
     "cellMetadata": {
      "byteLimit": 2048000,
      "rowLimit": 10000
     },
     "inputWidgets": {},
     "nuid": "c802cee8-4197-436c-b865-80b417b28324",
     "showTitle": false,
     "title": ""
    }
   },
   "outputs": [],
   "source": [
    "spark = SparkSession.builder.appName('data_processing').getOrCreate()"
   ]
  },
  {
   "cell_type": "code",
   "execution_count": 0,
   "metadata": {
    "application/vnd.databricks.v1+cell": {
     "cellMetadata": {
      "byteLimit": 2048000,
      "rowLimit": 10000
     },
     "inputWidgets": {},
     "nuid": "7aadd52b-d1c1-4a49-bfd7-56cef8d21ae0",
     "showTitle": false,
     "title": ""
    }
   },
   "outputs": [],
   "source": [
    "df = spark.read.csv('dbfs:/FileStore/shared_uploads/harsh.sce21@sot.pdpu.ac.in/file.csv', inferSchema=True, header=True)"
   ]
  },
  {
   "cell_type": "code",
   "execution_count": 0,
   "metadata": {
    "application/vnd.databricks.v1+cell": {
     "cellMetadata": {
      "byteLimit": 2048000,
      "rowLimit": 10000
     },
     "inputWidgets": {},
     "nuid": "5b39c500-20f7-4d85-b439-7bf6eb6b22c2",
     "showTitle": false,
     "title": ""
    }
   },
   "outputs": [
    {
     "output_type": "stream",
     "name": "stdout",
     "output_type": "stream",
     "text": [
      "Out[36]: ['ratings', 'age', 'experience', 'family', 'mobile']"
     ]
    }
   ],
   "source": [
    "df.columns"
   ]
  },
  {
   "cell_type": "code",
   "execution_count": 0,
   "metadata": {
    "application/vnd.databricks.v1+cell": {
     "cellMetadata": {
      "byteLimit": 2048000,
      "rowLimit": 10000
     },
     "inputWidgets": {},
     "nuid": "688de95b-4155-4daf-9a16-9da5fceae6f8",
     "showTitle": false,
     "title": ""
    }
   },
   "outputs": [
    {
     "output_type": "stream",
     "name": "stdout",
     "output_type": "stream",
     "text": [
      "+-------+---+----------+-------+------------+\n|ratings|age|experience| family|      mobile|\n+-------+---+----------+-------+------------+\n|    4.5| 30|         5|married|      iPhone|\n|    3.8| 25|         3| single|     Android|\n|    5.0| 35|         8|married|     Samsung|\n|    4.2| 28|         6| single|Google Pixel|\n|    4.7| 32|         7|married|      iPhone|\n|    3.5| 22|         2| single|     OnePlus|\n|    4.0| 27|         4|married|Google Pixel|\n|    4.8| 33|         9| single|      iPhone|\n|    3.9| 26|         5|married|     Samsung|\n|    4.4| 29|         6| single|     Android|\n|    4.6| 31|         8|married|     OnePlus|\n|    3.7| 24|         3| single|Google Pixel|\n|    4.9| 34|         7|married|      iPhone|\n|    3.6| 23|         4| single|     Samsung|\n|    4.3| 28|         6|married|     Android|\n|    4.1| 30|         5| single|     OnePlus|\n|    3.8| 25|         3|married|Google Pixel|\n|    4.5| 32|         7| single|      iPhone|\n|    4.2| 27|         4|married|     Samsung|\n|    3.9| 29|         6| single|     Android|\n+-------+---+----------+-------+------------+\nonly showing top 20 rows\n\n"
     ]
    }
   ],
   "source": [
    "df.show()"
   ]
  },
  {
   "cell_type": "code",
   "execution_count": 0,
   "metadata": {
    "application/vnd.databricks.v1+cell": {
     "cellMetadata": {
      "byteLimit": 2048000,
      "rowLimit": 10000
     },
     "inputWidgets": {},
     "nuid": "d66eb886-7921-46f2-924b-ad0540e616b3",
     "showTitle": false,
     "title": ""
    }
   },
   "outputs": [
    {
     "output_type": "stream",
     "name": "stdout",
     "output_type": "stream",
     "text": [
      "Out[38]: 5"
     ]
    }
   ],
   "source": [
    "len(df.columns)"
   ]
  },
  {
   "cell_type": "code",
   "execution_count": 0,
   "metadata": {
    "application/vnd.databricks.v1+cell": {
     "cellMetadata": {
      "byteLimit": 2048000,
      "rowLimit": 10000
     },
     "inputWidgets": {},
     "nuid": "54b65244-cd52-43e7-868f-1179cbf03906",
     "showTitle": false,
     "title": ""
    }
   },
   "outputs": [
    {
     "output_type": "stream",
     "name": "stdout",
     "output_type": "stream",
     "text": [
      "Out[39]: 30"
     ]
    }
   ],
   "source": [
    "df.count()"
   ]
  },
  {
   "cell_type": "code",
   "execution_count": 0,
   "metadata": {
    "application/vnd.databricks.v1+cell": {
     "cellMetadata": {
      "byteLimit": 2048000,
      "rowLimit": 10000
     },
     "inputWidgets": {},
     "nuid": "043c2d84-75c5-40e5-bf1a-640b1aa057a4",
     "showTitle": false,
     "title": ""
    }
   },
   "outputs": [
    {
     "output_type": "stream",
     "name": "stdout",
     "output_type": "stream",
     "text": [
      "5 30\n"
     ]
    }
   ],
   "source": [
    "print(len(df.columns), df.count())"
   ]
  },
  {
   "cell_type": "code",
   "execution_count": 0,
   "metadata": {
    "application/vnd.databricks.v1+cell": {
     "cellMetadata": {
      "byteLimit": 2048000,
      "rowLimit": 10000
     },
     "inputWidgets": {},
     "nuid": "a98c1014-cb2b-4605-b2e3-aaf14feb4fd8",
     "showTitle": false,
     "title": ""
    }
   },
   "outputs": [
    {
     "output_type": "stream",
     "name": "stdout",
     "output_type": "stream",
     "text": [
      "root\n |-- ratings: double (nullable = true)\n |-- age: integer (nullable = true)\n |-- experience: integer (nullable = true)\n |-- family: string (nullable = true)\n |-- mobile: string (nullable = true)\n\n"
     ]
    }
   ],
   "source": [
    "df.printSchema()"
   ]
  },
  {
   "cell_type": "code",
   "execution_count": 0,
   "metadata": {
    "application/vnd.databricks.v1+cell": {
     "cellMetadata": {
      "byteLimit": 2048000,
      "rowLimit": 10000
     },
     "inputWidgets": {},
     "nuid": "b910f045-ed87-4e1c-a8e0-c45b6b3e64cd",
     "showTitle": false,
     "title": ""
    }
   },
   "outputs": [
    {
     "output_type": "stream",
     "name": "stdout",
     "output_type": "stream",
     "text": [
      "+---+------------+\n|age|      mobile|\n+---+------------+\n| 30|      iPhone|\n| 25|     Android|\n| 35|     Samsung|\n| 28|Google Pixel|\n+---+------------+\nonly showing top 4 rows\n\n"
     ]
    }
   ],
   "source": [
    "df.select('age', 'mobile').show(4)"
   ]
  },
  {
   "cell_type": "code",
   "execution_count": 0,
   "metadata": {
    "application/vnd.databricks.v1+cell": {
     "cellMetadata": {
      "byteLimit": 2048000,
      "rowLimit": 10000
     },
     "inputWidgets": {},
     "nuid": "6d6be1c1-467a-47de-83c5-9aaab67244d8",
     "showTitle": false,
     "title": ""
    }
   },
   "outputs": [
    {
     "output_type": "stream",
     "name": "stdout",
     "output_type": "stream",
     "text": [
      "+-------+------------------+------------------+-----------------+-------+-------+\n|summary|           ratings|               age|       experience| family| mobile|\n+-------+------------------+------------------+-----------------+-------+-------+\n|  count|                30|                30|               30|     30|     30|\n|   mean|               4.2|28.533333333333335|5.466666666666667|   null|   null|\n| stddev|0.4510524092187837|3.8122609214655463|1.995397001952819|   null|   null|\n|    min|               3.4|                22|                2|married|Android|\n|    max|               5.0|                35|                9| single| iPhone|\n+-------+------------------+------------------+-----------------+-------+-------+\n\n"
     ]
    }
   ],
   "source": [
    "df.describe().show()"
   ]
  },
  {
   "cell_type": "code",
   "execution_count": 0,
   "metadata": {
    "application/vnd.databricks.v1+cell": {
     "cellMetadata": {
      "byteLimit": 2048000,
      "rowLimit": 10000
     },
     "inputWidgets": {},
     "nuid": "9ec8640b-d5ab-4187-98e3-3fb164bcedfa",
     "showTitle": false,
     "title": ""
    }
   },
   "outputs": [],
   "source": [
    "from pyspark.sql.types import StringType, DoubleType, IntegerType"
   ]
  },
  {
   "cell_type": "code",
   "execution_count": 0,
   "metadata": {
    "application/vnd.databricks.v1+cell": {
     "cellMetadata": {
      "byteLimit": 2048000,
      "rowLimit": 10000
     },
     "inputWidgets": {},
     "nuid": "3ef0c56e-a681-4d3f-b32c-dd1d4284a904",
     "showTitle": false,
     "title": ""
    }
   },
   "outputs": [
    {
     "output_type": "stream",
     "name": "stdout",
     "output_type": "stream",
     "text": [
      "+-------+---+----------+-------+------------+------------------+\n|ratings|age|experience|family |mobile      |age_after_10_years|\n+-------+---+----------+-------+------------+------------------+\n|4.5    |30 |5         |married|iPhone      |40                |\n|3.8    |25 |3         |single |Android     |35                |\n|5.0    |35 |8         |married|Samsung     |45                |\n|4.2    |28 |6         |single |Google Pixel|38                |\n|4.7    |32 |7         |married|iPhone      |42                |\n|3.5    |22 |2         |single |OnePlus     |32                |\n|4.0    |27 |4         |married|Google Pixel|37                |\n|4.8    |33 |9         |single |iPhone      |43                |\n|3.9    |26 |5         |married|Samsung     |36                |\n|4.4    |29 |6         |single |Android     |39                |\n+-------+---+----------+-------+------------+------------------+\nonly showing top 10 rows\n\n"
     ]
    }
   ],
   "source": [
    "df.withColumn(\"age_after_10_years\", (df['age']+10)).show(10, False)"
   ]
  },
  {
   "cell_type": "code",
   "execution_count": 0,
   "metadata": {
    "application/vnd.databricks.v1+cell": {
     "cellMetadata": {
      "byteLimit": 2048000,
      "rowLimit": 10000
     },
     "inputWidgets": {},
     "nuid": "faf0e6e2-17bf-4308-bf22-07dbd21c8452",
     "showTitle": false,
     "title": ""
    }
   },
   "outputs": [
    {
     "output_type": "stream",
     "name": "stdout",
     "output_type": "stream",
     "text": [
      "+-------+---+----------+-------+------------+----------+\n|ratings|age|experience|family |mobile      |age_double|\n+-------+---+----------+-------+------------+----------+\n|4.5    |30 |5         |married|iPhone      |30.0      |\n|3.8    |25 |3         |single |Android     |25.0      |\n|5.0    |35 |8         |married|Samsung     |35.0      |\n|4.2    |28 |6         |single |Google Pixel|28.0      |\n|4.7    |32 |7         |married|iPhone      |32.0      |\n|3.5    |22 |2         |single |OnePlus     |22.0      |\n|4.0    |27 |4         |married|Google Pixel|27.0      |\n|4.8    |33 |9         |single |iPhone      |33.0      |\n|3.9    |26 |5         |married|Samsung     |26.0      |\n|4.4    |29 |6         |single |Android     |29.0      |\n+-------+---+----------+-------+------------+----------+\nonly showing top 10 rows\n\n"
     ]
    }
   ],
   "source": [
    "df.withColumn(\"age_double\", (df['age'].cast(DoubleType()))).show(10, False)"
   ]
  },
  {
   "cell_type": "code",
   "execution_count": 0,
   "metadata": {
    "application/vnd.databricks.v1+cell": {
     "cellMetadata": {
      "byteLimit": 2048000,
      "rowLimit": 10000
     },
     "inputWidgets": {},
     "nuid": "b5ba26dc-873e-467e-82d7-b7d5f4087244",
     "showTitle": false,
     "title": ""
    }
   },
   "outputs": [
    {
     "output_type": "stream",
     "name": "stdout",
     "output_type": "stream",
     "text": [
      "+-------+---+----------+-------+------+\n|ratings|age|experience| family|mobile|\n+-------+---+----------+-------+------+\n|    4.5| 30|         5|married|iPhone|\n|    4.7| 32|         7|married|iPhone|\n|    4.8| 33|         9| single|iPhone|\n|    4.9| 34|         7|married|iPhone|\n|    4.5| 32|         7| single|iPhone|\n|    4.0| 26|         5| single|iPhone|\n|    4.4| 28|         6|married|iPhone|\n+-------+---+----------+-------+------+\n\n"
     ]
    }
   ],
   "source": [
    "df.filter(df['mobile']=='iPhone').show()"
   ]
  },
  {
   "cell_type": "code",
   "execution_count": 0,
   "metadata": {
    "application/vnd.databricks.v1+cell": {
     "cellMetadata": {
      "byteLimit": 2048000,
      "rowLimit": 10000
     },
     "inputWidgets": {},
     "nuid": "02677428-1bb0-4188-9999-1bcf9ca7328a",
     "showTitle": false,
     "title": ""
    }
   },
   "outputs": [
    {
     "output_type": "stream",
     "name": "stdout",
     "output_type": "stream",
     "text": [
      "+---+-------+\n|age| family|\n+---+-------+\n| 30|married|\n| 32|married|\n| 33| single|\n| 34|married|\n| 32| single|\n| 26| single|\n| 28|married|\n+---+-------+\n\n"
     ]
    }
   ],
   "source": [
    "df.filter(df['mobile']=='iPhone').select('age', 'family').show()"
   ]
  },
  {
   "cell_type": "code",
   "execution_count": 0,
   "metadata": {
    "application/vnd.databricks.v1+cell": {
     "cellMetadata": {
      "byteLimit": 2048000,
      "rowLimit": 10000
     },
     "inputWidgets": {},
     "nuid": "fffe3951-86f6-4be4-8544-c7e1dbebf688",
     "showTitle": false,
     "title": ""
    }
   },
   "outputs": [
    {
     "output_type": "stream",
     "name": "stdout",
     "output_type": "stream",
     "text": [
      "+-------+---+----------+-------+------+\n|ratings|age|experience| family|mobile|\n+-------+---+----------+-------+------+\n|    4.7| 32|         7|married|iPhone|\n|    4.8| 33|         9| single|iPhone|\n|    4.9| 34|         7|married|iPhone|\n|    4.5| 32|         7| single|iPhone|\n|    4.4| 28|         6|married|iPhone|\n+-------+---+----------+-------+------+\n\n"
     ]
    }
   ],
   "source": [
    "df.filter(df['mobile']=='iPhone').filter(df['experience'] > 5).show()"
   ]
  },
  {
   "cell_type": "code",
   "execution_count": 0,
   "metadata": {
    "application/vnd.databricks.v1+cell": {
     "cellMetadata": {
      "byteLimit": 2048000,
      "rowLimit": 10000
     },
     "inputWidgets": {},
     "nuid": "b77dea53-cd77-4c06-a98e-dafb288bd600",
     "showTitle": false,
     "title": ""
    }
   },
   "outputs": [],
   "source": [
    "# df.filter(df['mobile']=='iPhone')&(filter(df['experience'] > 5)).show()"
   ]
  },
  {
   "cell_type": "code",
   "execution_count": 0,
   "metadata": {
    "application/vnd.databricks.v1+cell": {
     "cellMetadata": {
      "byteLimit": 2048000,
      "rowLimit": 10000
     },
     "inputWidgets": {},
     "nuid": "cb90b7c8-32e5-4ce8-b694-5e1c97067f4e",
     "showTitle": false,
     "title": ""
    }
   },
   "outputs": [
    {
     "output_type": "stream",
     "name": "stdout",
     "output_type": "stream",
     "text": [
      "+------------+\n|      mobile|\n+------------+\n|      iPhone|\n|     Samsung|\n|     OnePlus|\n|     Android|\n|Google Pixel|\n+------------+\n\n"
     ]
    }
   ],
   "source": [
    "df.select('mobile').distinct().show()"
   ]
  },
  {
   "cell_type": "code",
   "execution_count": 0,
   "metadata": {
    "application/vnd.databricks.v1+cell": {
     "cellMetadata": {
      "byteLimit": 2048000,
      "rowLimit": 10000
     },
     "inputWidgets": {},
     "nuid": "6ca2a0e1-6a48-42d6-925b-94853b71a5c8",
     "showTitle": false,
     "title": ""
    }
   },
   "outputs": [
    {
     "output_type": "stream",
     "name": "stdout",
     "output_type": "stream",
     "text": [
      "+------------+-----+\n|mobile      |count|\n+------------+-----+\n|iPhone      |7    |\n|Samsung     |6    |\n|OnePlus     |5    |\n|Android     |6    |\n|Google Pixel|6    |\n+------------+-----+\n\n"
     ]
    }
   ],
   "source": [
    "df.groupBy('mobile').count().show(5, False)"
   ]
  },
  {
   "cell_type": "code",
   "execution_count": 0,
   "metadata": {
    "application/vnd.databricks.v1+cell": {
     "cellMetadata": {
      "byteLimit": 2048000,
      "rowLimit": 10000
     },
     "inputWidgets": {},
     "nuid": "0afaf454-c353-4809-a8ca-7f3eea336e60",
     "showTitle": false,
     "title": ""
    }
   },
   "outputs": [
    {
     "output_type": "stream",
     "name": "stdout",
     "output_type": "stream",
     "text": [
      "+------------+-----+\n|mobile      |count|\n+------------+-----+\n|iPhone      |7    |\n|Samsung     |6    |\n|Android     |6    |\n|Google Pixel|6    |\n|OnePlus     |5    |\n+------------+-----+\n\n"
     ]
    }
   ],
   "source": [
    "df.groupBy('mobile').count().orderBy('count', ascending=False).show(5, False)"
   ]
  },
  {
   "cell_type": "code",
   "execution_count": 0,
   "metadata": {
    "application/vnd.databricks.v1+cell": {
     "cellMetadata": {
      "byteLimit": 2048000,
      "rowLimit": 10000
     },
     "inputWidgets": {},
     "nuid": "1764de67-3900-42ff-8d06-3cb2c8a5c6a3",
     "showTitle": false,
     "title": ""
    }
   },
   "outputs": [
    {
     "output_type": "stream",
     "name": "stdout",
     "output_type": "stream",
     "text": [
      "+------------+------------------+--------+---------------+\n|mobile      |sum(ratings)      |sum(age)|sum(experience)|\n+------------+------------------+--------+---------------+\n|iPhone      |31.799999999999997|215     |46             |\n|Samsung     |24.199999999999996|165     |28             |\n|OnePlus     |20.499999999999996|138     |26             |\n|Android     |24.8              |171     |34             |\n|Google Pixel|24.7              |167     |30             |\n+------------+------------------+--------+---------------+\n\n"
     ]
    }
   ],
   "source": [
    "df.groupBy('mobile').sum().show(5, False)"
   ]
  },
  {
   "cell_type": "code",
   "execution_count": 0,
   "metadata": {
    "application/vnd.databricks.v1+cell": {
     "cellMetadata": {
      "byteLimit": 2048000,
      "rowLimit": 10000
     },
     "inputWidgets": {},
     "nuid": "e8940948-8cfa-4f3d-8747-bbdf54afd928",
     "showTitle": false,
     "title": ""
    }
   },
   "outputs": [
    {
     "output_type": "stream",
     "name": "stdout",
     "output_type": "stream",
     "text": [
      "+------------+-----------------+------------------+-----------------+\n|mobile      |avg(ratings)     |avg(age)          |avg(experience)  |\n+------------+-----------------+------------------+-----------------+\n|iPhone      |4.542857142857143|30.714285714285715|6.571428571428571|\n|Samsung     |4.033333333333332|27.5              |4.666666666666667|\n|OnePlus     |4.1              |27.6              |5.2              |\n|Android     |4.133333333333334|28.5              |5.666666666666667|\n|Google Pixel|4.116666666666666|27.833333333333332|5.0              |\n+------------+-----------------+------------------+-----------------+\n\n"
     ]
    }
   ],
   "source": [
    "df.groupBy('mobile').mean().show(5, False)"
   ]
  },
  {
   "cell_type": "code",
   "execution_count": 0,
   "metadata": {
    "application/vnd.databricks.v1+cell": {
     "cellMetadata": {
      "byteLimit": 2048000,
      "rowLimit": 10000
     },
     "inputWidgets": {},
     "nuid": "122e79c3-1a7d-4977-b4e6-b4fede3a4474",
     "showTitle": false,
     "title": ""
    }
   },
   "outputs": [
    {
     "output_type": "stream",
     "name": "stdout",
     "output_type": "stream",
     "text": [
      "+------------+------------+--------+---------------+\n|mobile      |min(ratings)|min(age)|min(experience)|\n+------------+------------+--------+---------------+\n|iPhone      |4.0         |26      |5              |\n|Samsung     |3.4         |23      |2              |\n|OnePlus     |3.5         |22      |2              |\n|Android     |3.6         |25      |3              |\n|Google Pixel|3.7         |24      |3              |\n+------------+------------+--------+---------------+\n\n"
     ]
    }
   ],
   "source": [
    "df.groupBy('mobile').min().show(5, False)"
   ]
  },
  {
   "cell_type": "code",
   "execution_count": 0,
   "metadata": {
    "application/vnd.databricks.v1+cell": {
     "cellMetadata": {
      "byteLimit": 2048000,
      "rowLimit": 10000
     },
     "inputWidgets": {},
     "nuid": "1d8f150c-f3da-4143-bf52-5a958731a1f6",
     "showTitle": false,
     "title": ""
    }
   },
   "outputs": [
    {
     "output_type": "stream",
     "name": "stdout",
     "output_type": "stream",
     "text": [
      "+------------+------------+--------+---------------+\n|mobile      |max(ratings)|max(age)|max(experience)|\n+------------+------------+--------+---------------+\n|iPhone      |4.9         |34      |9              |\n|Samsung     |5.0         |35      |8              |\n|OnePlus     |4.6         |33      |8              |\n|Android     |4.8         |35      |9              |\n|Google Pixel|4.7         |32      |7              |\n+------------+------------+--------+---------------+\n\n"
     ]
    }
   ],
   "source": [
    "df.groupBy('mobile').max().show(5, False)"
   ]
  },
  {
   "cell_type": "code",
   "execution_count": 0,
   "metadata": {
    "application/vnd.databricks.v1+cell": {
     "cellMetadata": {
      "byteLimit": 2048000,
      "rowLimit": 10000
     },
     "inputWidgets": {},
     "nuid": "bbf09a16-37fd-4531-ab77-3c4fe84c47b0",
     "showTitle": false,
     "title": ""
    }
   },
   "outputs": [
    {
     "output_type": "stream",
     "name": "stdout",
     "output_type": "stream",
     "text": [
      "+------------+---------------+\n|mobile      |sum(experience)|\n+------------+---------------+\n|iPhone      |46             |\n|Samsung     |28             |\n|OnePlus     |26             |\n|Android     |34             |\n|Google Pixel|30             |\n+------------+---------------+\n\n"
     ]
    }
   ],
   "source": [
    "df.groupBy('mobile').agg({'experience':'sum'}).show(5, False)"
   ]
  },
  {
   "cell_type": "code",
   "execution_count": 0,
   "metadata": {
    "application/vnd.databricks.v1+cell": {
     "cellMetadata": {
      "byteLimit": 2048000,
      "rowLimit": 10000
     },
     "inputWidgets": {},
     "nuid": "14b37ef6-0f0b-4506-8de3-ff7c192d111b",
     "showTitle": false,
     "title": ""
    }
   },
   "outputs": [],
   "source": [
    "# normal function\n",
    "def price_range(brand):\n",
    "    if brand in ['iPhone', 'OnePlus']:\n",
    "        return \"high Price\"\n",
    "    elif brand in [\"Google Pixel\"]:\n",
    "        return \"Mid price\"\n",
    "    else:\n",
    "        return \"Low Price\""
   ]
  },
  {
   "cell_type": "code",
   "execution_count": 0,
   "metadata": {
    "application/vnd.databricks.v1+cell": {
     "cellMetadata": {
      "byteLimit": 2048000,
      "rowLimit": 10000
     },
     "inputWidgets": {},
     "nuid": "99f5d4af-b725-4657-9694-9d48977452af",
     "showTitle": false,
     "title": ""
    }
   },
   "outputs": [
    {
     "output_type": "stream",
     "name": "stdout",
     "output_type": "stream",
     "text": [
      "+-------+---+----------+-------+------------+-----------+\n|ratings|age|experience|family |mobile      |price_range|\n+-------+---+----------+-------+------------+-----------+\n|4.5    |30 |5         |married|iPhone      |high Price |\n|3.8    |25 |3         |single |Android     |Low Price  |\n|5.0    |35 |8         |married|Samsung     |Low Price  |\n|4.2    |28 |6         |single |Google Pixel|Mid price  |\n|4.7    |32 |7         |married|iPhone      |high Price |\n|3.5    |22 |2         |single |OnePlus     |high Price |\n|4.0    |27 |4         |married|Google Pixel|Mid price  |\n|4.8    |33 |9         |single |iPhone      |high Price |\n|3.9    |26 |5         |married|Samsung     |Low Price  |\n|4.4    |29 |6         |single |Android     |Low Price  |\n+-------+---+----------+-------+------------+-----------+\nonly showing top 10 rows\n\n"
     ]
    }
   ],
   "source": [
    "brand_udf = udf(price_range, StringType())\n",
    "df.withColumn('price_range', brand_udf(df['mobile'])).show(10, False)"
   ]
  },
  {
   "cell_type": "code",
   "execution_count": 0,
   "metadata": {
    "application/vnd.databricks.v1+cell": {
     "cellMetadata": {
      "byteLimit": 2048000,
      "rowLimit": 10000
     },
     "inputWidgets": {},
     "nuid": "d2ed98c5-316e-4888-8f64-47df4db27933",
     "showTitle": false,
     "title": ""
    }
   },
   "outputs": [
    {
     "output_type": "stream",
     "name": "stdout",
     "output_type": "stream",
     "text": [
      "+-------+---+----------+-------+------------+---------+\n|ratings|age|experience|family |mobile      |age_group|\n+-------+---+----------+-------+------------+---------+\n|4.5    |30 |5         |married|iPhone      |young    |\n|3.8    |25 |3         |single |Android     |young    |\n|5.0    |35 |8         |married|Samsung     |senior   |\n|4.2    |28 |6         |single |Google Pixel|young    |\n|4.7    |32 |7         |married|iPhone      |senior   |\n|3.5    |22 |2         |single |OnePlus     |young    |\n|4.0    |27 |4         |married|Google Pixel|young    |\n|4.8    |33 |9         |single |iPhone      |senior   |\n|3.9    |26 |5         |married|Samsung     |young    |\n|4.4    |29 |6         |single |Android     |young    |\n+-------+---+----------+-------+------------+---------+\nonly showing top 10 rows\n\n"
     ]
    }
   ],
   "source": [
    "age_udf = udf(lambda age: \"young\" if age <= 30 else \"senior\", StringType())\n",
    "df.withColumn(\"age_group\", age_udf(df.age)).show(10, False)"
   ]
  },
  {
   "cell_type": "code",
   "execution_count": 0,
   "metadata": {
    "application/vnd.databricks.v1+cell": {
     "cellMetadata": {
      "byteLimit": 2048000,
      "rowLimit": 10000
     },
     "inputWidgets": {},
     "nuid": "70d54bce-d9ff-45a6-a370-ff262a7cce66",
     "showTitle": false,
     "title": ""
    }
   },
   "outputs": [],
   "source": [
    "from pyspark.sql.functions import pandas_udf, PandasUDFType"
   ]
  },
  {
   "cell_type": "code",
   "execution_count": 0,
   "metadata": {
    "application/vnd.databricks.v1+cell": {
     "cellMetadata": {
      "byteLimit": 2048000,
      "rowLimit": 10000
     },
     "inputWidgets": {},
     "nuid": "7b99879f-aa66-43ee-a136-ccd28a71d093",
     "showTitle": false,
     "title": ""
    }
   },
   "outputs": [],
   "source": [
    "def remaining_yrs(age):\n",
    "    yrs_left = 100-age\n",
    "    return yrs_left"
   ]
  },
  {
   "cell_type": "code",
   "execution_count": 0,
   "metadata": {
    "application/vnd.databricks.v1+cell": {
     "cellMetadata": {
      "byteLimit": 2048000,
      "rowLimit": 10000
     },
     "inputWidgets": {},
     "nuid": "23dd76fb-5d98-4d91-b12e-8e2b28aea071",
     "showTitle": false,
     "title": ""
    }
   },
   "outputs": [
    {
     "output_type": "stream",
     "name": "stdout",
     "output_type": "stream",
     "text": [
      "+-------+---+----------+-------+------------+--------+\n|ratings|age|experience|family |mobile      |yrs_left|\n+-------+---+----------+-------+------------+--------+\n|4.5    |30 |5         |married|iPhone      |70      |\n|3.8    |25 |3         |single |Android     |75      |\n|5.0    |35 |8         |married|Samsung     |65      |\n|4.2    |28 |6         |single |Google Pixel|72      |\n|4.7    |32 |7         |married|iPhone      |68      |\n|3.5    |22 |2         |single |OnePlus     |78      |\n|4.0    |27 |4         |married|Google Pixel|73      |\n|4.8    |33 |9         |single |iPhone      |67      |\n|3.9    |26 |5         |married|Samsung     |74      |\n|4.4    |29 |6         |single |Android     |71      |\n+-------+---+----------+-------+------------+--------+\nonly showing top 10 rows\n\n"
     ]
    }
   ],
   "source": [
    "length_udf = pandas_udf(remaining_yrs, IntegerType())\n",
    "df.withColumn(\"yrs_left\", remaining_yrs(df.age)).show(10, False)"
   ]
  },
  {
   "cell_type": "code",
   "execution_count": 0,
   "metadata": {
    "application/vnd.databricks.v1+cell": {
     "cellMetadata": {
      "byteLimit": 2048000,
      "rowLimit": 10000
     },
     "inputWidgets": {},
     "nuid": "9d76ac58-a704-4c8d-b760-aa5c5951b8cd",
     "showTitle": false,
     "title": ""
    }
   },
   "outputs": [],
   "source": [
    "# UDF using two columns\n",
    "def prod(rating, exp):\n",
    "    x = rating*exp\n",
    "    return x"
   ]
  },
  {
   "cell_type": "code",
   "execution_count": 0,
   "metadata": {
    "application/vnd.databricks.v1+cell": {
     "cellMetadata": {
      "byteLimit": 2048000,
      "rowLimit": 10000
     },
     "inputWidgets": {},
     "nuid": "165ac5d8-0cfa-4ed3-9189-6c9270a7630b",
     "showTitle": false,
     "title": ""
    }
   },
   "outputs": [
    {
     "output_type": "stream",
     "name": "stdout",
     "output_type": "stream",
     "text": [
      "+-------+---+----------+-------+------------+------------------+\n|ratings|age|experience|family |mobile      |prod              |\n+-------+---+----------+-------+------------+------------------+\n|4.5    |30 |5         |married|iPhone      |22.5              |\n|3.8    |25 |3         |single |Android     |11.399999999999999|\n|5.0    |35 |8         |married|Samsung     |40.0              |\n|4.2    |28 |6         |single |Google Pixel|25.200000000000003|\n|4.7    |32 |7         |married|iPhone      |32.9              |\n|3.5    |22 |2         |single |OnePlus     |7.0               |\n|4.0    |27 |4         |married|Google Pixel|16.0              |\n|4.8    |33 |9         |single |iPhone      |43.199999999999996|\n|3.9    |26 |5         |married|Samsung     |19.5              |\n|4.4    |29 |6         |single |Android     |26.400000000000002|\n+-------+---+----------+-------+------------+------------------+\nonly showing top 10 rows\n\n"
     ]
    }
   ],
   "source": [
    "length_udf = pandas_udf(remaining_yrs, IntegerType())\n",
    "df.withColumn(\"prod\", prod(df.ratings, df.experience)).show(10, False)"
   ]
  },
  {
   "cell_type": "code",
   "execution_count": 0,
   "metadata": {
    "application/vnd.databricks.v1+cell": {
     "cellMetadata": {
      "byteLimit": 2048000,
      "rowLimit": 10000
     },
     "inputWidgets": {},
     "nuid": "57012d0b-b705-4e38-a4dd-68b461a3a488",
     "showTitle": false,
     "title": ""
    }
   },
   "outputs": [
    {
     "output_type": "stream",
     "name": "stdout",
     "output_type": "stream",
     "text": [
      "+-------+---+----------+-------+------------+\n|ratings|age|experience| family|      mobile|\n+-------+---+----------+-------+------------+\n|    4.4| 29|         6| single|     Android|\n|    4.2| 28|         6| single|Google Pixel|\n|    4.8| 33|         9| single|      iPhone|\n|    4.3| 28|         6|married|     Android|\n|    4.7| 32|         7|married|      iPhone|\n|    3.8| 25|         3|married|Google Pixel|\n|    3.6| 23|         4| single|     Samsung|\n|    3.9| 26|         5|married|     Samsung|\n|    3.8| 25|         3| single|     Android|\n|    4.5| 30|         5|married|      iPhone|\n|    4.0| 27|         4|married|Google Pixel|\n|    4.9| 34|         7|married|      iPhone|\n|    4.1| 30|         5| single|     OnePlus|\n|    3.5| 22|         2| single|     OnePlus|\n|    4.2| 27|         4|married|     Samsung|\n|    5.0| 35|         8|married|     Samsung|\n|    4.6| 33|         8|married|     OnePlus|\n|    3.9| 29|         6| single|     Android|\n|    4.6| 31|         8|married|     OnePlus|\n|    3.7| 24|         3| single|Google Pixel|\n+-------+---+----------+-------+------------+\nonly showing top 20 rows\n\n"
     ]
    }
   ],
   "source": [
    "df = df.dropDuplicates()\n",
    "df.show()"
   ]
  },
  {
   "cell_type": "code",
   "execution_count": 0,
   "metadata": {
    "application/vnd.databricks.v1+cell": {
     "cellMetadata": {
      "byteLimit": 2048000,
      "rowLimit": 10000
     },
     "inputWidgets": {},
     "nuid": "d8308f3f-2a00-4576-b6fb-f973a607704a",
     "showTitle": false,
     "title": ""
    }
   },
   "outputs": [
    {
     "output_type": "stream",
     "name": "stdout",
     "output_type": "stream",
     "text": [
      "Out[91]: 30"
     ]
    }
   ],
   "source": [
    "df.count()"
   ]
  },
  {
   "cell_type": "code",
   "execution_count": 0,
   "metadata": {
    "application/vnd.databricks.v1+cell": {
     "cellMetadata": {
      "byteLimit": 2048000,
      "rowLimit": 10000
     },
     "inputWidgets": {},
     "nuid": "b87491d8-223a-4f35-894b-31b8bd339f9c",
     "showTitle": false,
     "title": ""
    }
   },
   "outputs": [
    {
     "output_type": "stream",
     "name": "stdout",
     "output_type": "stream",
     "text": [
      "+-------+---+----------+-------+\n|ratings|age|experience| family|\n+-------+---+----------+-------+\n|    4.4| 29|         6| single|\n|    4.2| 28|         6| single|\n|    4.8| 33|         9| single|\n|    4.3| 28|         6|married|\n|    4.7| 32|         7|married|\n|    3.8| 25|         3|married|\n|    3.6| 23|         4| single|\n|    3.9| 26|         5|married|\n|    3.8| 25|         3| single|\n|    4.5| 30|         5|married|\n|    4.0| 27|         4|married|\n|    4.9| 34|         7|married|\n|    4.1| 30|         5| single|\n|    3.5| 22|         2| single|\n|    4.2| 27|         4|married|\n|    5.0| 35|         8|married|\n|    4.6| 33|         8|married|\n|    3.9| 29|         6| single|\n|    4.6| 31|         8|married|\n|    3.7| 24|         3| single|\n+-------+---+----------+-------+\nonly showing top 20 rows\n\n"
     ]
    }
   ],
   "source": [
    "df_new = df.drop('mobile')\n",
    "df_new.show()"
   ]
  },
  {
   "cell_type": "code",
   "execution_count": 0,
   "metadata": {
    "application/vnd.databricks.v1+cell": {
     "cellMetadata": {
      "byteLimit": 2048000,
      "rowLimit": 10000
     },
     "inputWidgets": {},
     "nuid": "dc7f36da-69be-47cf-b193-2f095855d9ed",
     "showTitle": false,
     "title": ""
    }
   },
   "outputs": [
    {
     "output_type": "stream",
     "name": "stdout",
     "output_type": "stream",
     "text": [
      "/databricks/driver\r\nazure  eventlogs  hadoop_accessed_config.lst  metastore_db\r\nconf   ganglia\t  logs\t\t\t      preload_class.lst\r\n"
     ]
    }
   ],
   "source": [
    "!pwd\n",
    "!ls"
   ]
  },
  {
   "cell_type": "code",
   "execution_count": 0,
   "metadata": {
    "application/vnd.databricks.v1+cell": {
     "cellMetadata": {
      "byteLimit": 2048000,
      "rowLimit": 10000
     },
     "inputWidgets": {},
     "nuid": "3d431b24-bd1c-4ade-b952-ef9a4653b05e",
     "showTitle": false,
     "title": ""
    }
   },
   "outputs": [],
   "source": [
    "# Target Directory\n",
    "write_uri = 'home/jovyan/work/df_csv'"
   ]
  },
  {
   "cell_type": "code",
   "execution_count": 0,
   "metadata": {
    "application/vnd.databricks.v1+cell": {
     "cellMetadata": {
      "byteLimit": 2048000,
      "rowLimit": 10000
     },
     "inputWidgets": {},
     "nuid": "20a5d624-e2c0-40d6-bbcf-2b4f99a7a346",
     "showTitle": false,
     "title": ""
    }
   },
   "outputs": [],
   "source": [
    "df.coalesce(1).write.format(\"csv\").option(\"header\", \"true\").save(write_uri)"
   ]
  },
  {
   "cell_type": "code",
   "execution_count": 0,
   "metadata": {
    "application/vnd.databricks.v1+cell": {
     "cellMetadata": {
      "byteLimit": 2048000,
      "rowLimit": 10000
     },
     "inputWidgets": {},
     "nuid": "2e32bae4-056c-4c7f-bf81-fc457d4cdef1",
     "showTitle": false,
     "title": ""
    }
   },
   "outputs": [],
   "source": [
    "# Target Directory\n",
    "parquet_uri = 'home/jovyan/work/df_parquet'"
   ]
  },
  {
   "cell_type": "code",
   "execution_count": 0,
   "metadata": {
    "application/vnd.databricks.v1+cell": {
     "cellMetadata": {
      "byteLimit": 2048000,
      "rowLimit": 10000
     },
     "inputWidgets": {},
     "nuid": "b86f98b0-7fd3-48b0-a16f-2075bc090e6e",
     "showTitle": false,
     "title": ""
    }
   },
   "outputs": [],
   "source": [
    "df.write.format('parquet').save(parquet_uri)"
   ]
  },
  {
   "cell_type": "code",
   "execution_count": 0,
   "metadata": {
    "application/vnd.databricks.v1+cell": {
     "cellMetadata": {},
     "inputWidgets": {},
     "nuid": "fc5d7eb1-752c-45c5-95d8-b0457a2a2a36",
     "showTitle": false,
     "title": ""
    }
   },
   "outputs": [],
   "source": []
  }
 ],
 "metadata": {
  "application/vnd.databricks.v1+notebook": {
   "dashboards": [],
   "language": "python",
   "notebookMetadata": {
    "pythonIndentUnit": 4
   },
   "notebookName": "Lab 6 Continue Lab 5 14-02-24",
   "widgets": {}
  }
 },
 "nbformat": 4,
 "nbformat_minor": 0
}
