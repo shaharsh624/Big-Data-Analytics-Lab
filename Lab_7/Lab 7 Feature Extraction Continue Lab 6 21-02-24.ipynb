{
 "cells": [
  {
   "cell_type": "code",
   "execution_count": 0,
   "metadata": {
    "application/vnd.databricks.v1+cell": {
     "cellMetadata": {
      "byteLimit": 2048000,
      "rowLimit": 10000
     },
     "inputWidgets": {},
     "nuid": "90366f96-409e-4295-a91a-13371f8b7801",
     "showTitle": false,
     "title": ""
    }
   },
   "outputs": [],
   "source": [
    "import pyspark.ml.clustering as clust\n",
    "import pyspark.ml.feature as feat\n",
    "from pyspark.ml import Pipeline"
   ]
  },
  {
   "cell_type": "code",
   "execution_count": 0,
   "metadata": {
    "application/vnd.databricks.v1+cell": {
     "cellMetadata": {
      "byteLimit": 2048000,
      "rowLimit": 10000
     },
     "inputWidgets": {},
     "nuid": "13d47a98-7a40-4186-8aca-9a17b7af8441",
     "showTitle": false,
     "title": ""
    }
   },
   "outputs": [],
   "source": [
    "articles = spark.createDataFrame([\n",
    "    ('''\n",
    "        The Andromeda Galaxy, named after the mythological \n",
    "        Princess Andromeda, also known as Messier 31, M31, \n",
    "        or NGC 224, is a spiral galaxy approximately 780 \n",
    "        kiloparsecs (2.5 million light-years) from Earth, \n",
    "        and the nearest major galaxy to the Milky Way. \n",
    "        Its name stems from the area of the sky in which it \n",
    "        appears, the constellation of Andromeda. The 2006 \n",
    "        observations by the Spitzer Space Telescope revealed \n",
    "        that the Andromeda Galaxy contains approximately one \n",
    "        trillion stars, more than twice the number of the \n",
    "        Milky Way’s estimated 200-400 billion stars. The \n",
    "        Andromeda Galaxy, spanning approximately 220,000 light \n",
    "        years, is the largest galaxy in our Local Group, \n",
    "        which is also home to the Triangulum Galaxy and \n",
    "        other minor galaxies. The Andromeda Galaxy's mass is \n",
    "        estimated to be around 1.76 times that of the Milky \n",
    "        Way Galaxy (~0.8-1.5×1012 solar masses vs the Milky \n",
    "        Way's 8.5×1011 solar masses).\n",
    "    ''','Galaxy', 'Andromeda')\n",
    "    , ('''\n",
    "        The Milky Way is the galaxy that contains our Solar \n",
    "        System. The descriptive \"milky\" is derived from the \n",
    "        appearance from Earth of the galaxy – a band of light \n",
    "        seen in the night sky formed from stars that cannot be \n",
    "        individually distinguished by the naked eye. The term \n",
    "        Milky Way is a translation of the Latin via lactea, from \n",
    "        the Greek. From Earth, the Milky Way appears as a band \n",
    "        because its disk-shaped structure is viewed from within. \n",
    "        Galileo Galilei first resolved the band of light into \n",
    "        individual stars with his telescope in 1610. Observations \n",
    "        by Edwin Hubble showed that the Milky \n",
    "        Way is just one of many galaxies.\n",
    "    ''','Galaxy','Milky Way')\n",
    "    , ('''\n",
    "        Australia, officially the Commonwealth of Australia, \n",
    "        is a sovereign country comprising the mainland of the \n",
    "        Australian continent, the island of Tasmania and numerous \n",
    "        smaller islands. It is the largest country in Oceania and \n",
    "        the world's sixth-largest country by total area. The \n",
    "        neighbouring countries are Papua New Guinea, Indonesia and \n",
    "        East Timor to the north; the Solomon Islands and Vanuatu to \n",
    "        the north-east; and New Zealand to the south-east. Australia's \n",
    "        capital is Canberra, and its largest city is Sydney.\n",
    "    ''','Geography', 'Australia')\n",
    "    , ('''\n",
    "        The United States of America (USA), commonly known as the United \n",
    "        States (U.S.) or America, is a federal republic composed of 50 \n",
    "        states, a federal district, five major self-governing territories, \n",
    "        and various possessions. At 3.8 million square miles (9.8 million \n",
    "        km2) and with over 325 million people, the United States is the \n",
    "        world's third- or fourth-largest country by total area and the \n",
    "        third-most populous country. The capital is Washington, D.C., and \n",
    "        the largest city by population is New York City. Forty-eight states \n",
    "        and the capital's federal district are contiguous and in North America \n",
    "        between Canada and Mexico. The State of Alaska is in the northwest \n",
    "        corner of North America, bordered by Canada to the east and across \n",
    "        the Bering Strait from Russia to the west. The State of Hawaii is \n",
    "        an archipelago in the mid-Pacific Ocean. The U.S. territories are \n",
    "        scattered about the Pacific Ocean and the Caribbean Sea, stretching \n",
    "        across nine official time zones. The extremely diverse geography, \n",
    "        climate, and wildlife of the United States make it one of the world's \n",
    "        17 megadiverse countries.\n",
    "    ''','Geography', 'USA')\n",
    "    , ('''\n",
    "        China, officially the People's Republic of China (PRC), is a unitary \n",
    "        sovereign state in East Asia and, with a population of around 1.404 \n",
    "        billion, the world's most populous country. Covering 9,600,000 \n",
    "        square kilometers (3,700,000 sq mi), China has the most borders of \n",
    "        any country in the world. Governed by the Communist Party of China, \n",
    "        it exercises jurisdiction over 22 provinces, five autonomous regions, \n",
    "        four direct-controlled municipalities (Beijing, Tianjin, Shanghai, and \n",
    "        Chongqing), and the special administrative regions of Hong Kong and Macau.\n",
    "    ''','Geography', 'China')\n",
    "    , ('''\n",
    "        Poland, officially the Republic of Poland, is a country located in \n",
    "        Central Europe. It is divided into 16 administrative subdivisions, \n",
    "        covering an area of 312,679 square kilometres (120,726 sq mi), and has \n",
    "        a largely temperate seasonal climate. With a population of approximately \n",
    "        38.5 million people, Poland is the sixth most populous member state of \n",
    "        the European Union. Poland's capital and largest metropolis is \n",
    "        Warsaw.\n",
    "    ''','Geography', 'Poland')\n",
    "    , ('''\n",
    "        The domestic dog (Canis lupus familiaris when considered a subspecies \n",
    "        of the gray wolf or Canis familiaris when considered a distinct species) \n",
    "        is a member of the genus Canis (canines), which forms part of the \n",
    "        wolf-like canids, and is the most widely abundant terrestrial carnivore.\n",
    "        The dog and the extant gray wolf are sister taxa as modern wolves are \n",
    "        not closely related to the wolves that were first domesticated, which \n",
    "        implies that the direct ancestor of the dog is extinct. The dog was \n",
    "        the first species to be domesticated and has been selectively bred over \n",
    "        millennia for various behaviors, sensory capabilities, and physical attributes.\n",
    "    ''','Animal', 'Dog')\n",
    "    , ('''\n",
    "        The origin of the domestic dog is not clear. It is known that the dog was \n",
    "        the first domesticated species. The domestic dog is a member of the genus \n",
    "        Canis (canines), which forms part of the wolf-like canids, and is the most \n",
    "        widely abundant terrestrial carnivore. The closest living relative of the \n",
    "        dog is the gray wolf and there is no evidence of any other canine \n",
    "        contributing to its genetic lineage. The dog and the extant gray wolf \n",
    "        form two sister clades, with modern wolves not closely related to the \n",
    "        wolves that were first domesticated. The archaeological record shows \n",
    "        the first undisputed dog remains buried beside humans 14,700 years ago, \n",
    "        with disputed remains occurring 36,000 years ago. These dates imply \n",
    "        that the earliest dogs arose in the time of human hunter-gatherers \n",
    "        and not agriculturists.\n",
    "    ''','Animal', 'Dog')\n",
    "    , ('''\n",
    "        Washington, officially the State of Washington, is a state in the Pacific \n",
    "        Northwest region of the United States. Named after George Washington, \n",
    "        the first president of the United States, the state was made out of the \n",
    "        western part of the Washington Territory, which was ceded by Britain in \n",
    "        1846 in accordance with the Oregon Treaty in the settlement of the \n",
    "        Oregon boundary dispute. It was admitted to the Union as the 42nd state \n",
    "        in 1889. Olympia is the state capital. Washington is sometimes referred \n",
    "        to as Washington State, to distinguish it from Washington, D.C., the \n",
    "        capital of the United States, which is often shortened to Washington.\n",
    "    ''','Geography', 'Washington State')    \n",
    "], ['articles', 'Topic', 'Object'])"
   ]
  },
  {
   "cell_type": "code",
   "execution_count": 0,
   "metadata": {
    "application/vnd.databricks.v1+cell": {
     "cellMetadata": {
      "byteLimit": 2048000,
      "rowLimit": 10000
     },
     "inputWidgets": {},
     "nuid": "647effb2-986b-4bbf-a7dc-c43cc40556f4",
     "showTitle": false,
     "title": ""
    }
   },
   "outputs": [],
   "source": [
    "splitter = feat.RegexTokenizer(\n",
    "    inputCol='articles'\n",
    "    , outputCol='articles_split'\n",
    "    , pattern='\\s+|[,.\\\"]'\n",
    ")"
   ]
  },
  {
   "cell_type": "code",
   "execution_count": 0,
   "metadata": {
    "application/vnd.databricks.v1+cell": {
     "cellMetadata": {
      "byteLimit": 2048000,
      "rowLimit": 10000
     },
     "inputWidgets": {},
     "nuid": "c2294d93-2dcf-403a-8c00-de8fa6f168b2",
     "showTitle": false,
     "title": ""
    }
   },
   "outputs": [],
   "source": [
    "sw_remover = feat.StopWordsRemover(\n",
    "    inputCol=splitter.getOutputCol()\n",
    "    , outputCol='no_stopWords'\n",
    ")"
   ]
  },
  {
   "cell_type": "code",
   "execution_count": 0,
   "metadata": {
    "application/vnd.databricks.v1+cell": {
     "cellMetadata": {
      "byteLimit": 2048000,
      "rowLimit": 10000
     },
     "inputWidgets": {},
     "nuid": "18ea639b-b53d-4976-82a4-81c36aea5e45",
     "showTitle": false,
     "title": ""
    }
   },
   "outputs": [],
   "source": [
    "count_vec = feat.CountVectorizer(\n",
    "    inputCol=sw_remover.getOutputCol()\n",
    "    , outputCol='vector'\n",
    ")"
   ]
  },
  {
   "cell_type": "code",
   "execution_count": 0,
   "metadata": {
    "application/vnd.databricks.v1+cell": {
     "cellMetadata": {
      "byteLimit": 2048000,
      "rowLimit": 10000
     },
     "inputWidgets": {},
     "nuid": "b0dc5564-18d4-47c5-a976-e59689641598",
     "showTitle": false,
     "title": ""
    }
   },
   "outputs": [],
   "source": [
    "lda_clusters = clust.LDA(\n",
    "    k=3\n",
    "    , optimizer='online'\n",
    "    , featuresCol=count_vec.getOutputCol()\n",
    ")"
   ]
  },
  {
   "cell_type": "code",
   "execution_count": 0,
   "metadata": {
    "application/vnd.databricks.v1+cell": {
     "cellMetadata": {
      "byteLimit": 2048000,
      "rowLimit": 10000
     },
     "inputWidgets": {},
     "nuid": "9cae3902-b81f-4aa1-97c5-74dd76503a9d",
     "showTitle": false,
     "title": ""
    }
   },
   "outputs": [],
   "source": [
    "topic_pipeline = Pipeline(\n",
    "    stages=[\n",
    "        splitter\n",
    "        , sw_remover\n",
    "        , count_vec\n",
    "        , lda_clusters\n",
    "    ]\n",
    ")"
   ]
  },
  {
   "cell_type": "code",
   "execution_count": 0,
   "metadata": {
    "application/vnd.databricks.v1+cell": {
     "cellMetadata": {
      "byteLimit": 2048000,
      "rowLimit": 10000
     },
     "inputWidgets": {},
     "nuid": "0bfe8f57-12f2-4cb0-811a-709215e49867",
     "showTitle": false,
     "title": ""
    }
   },
   "outputs": [],
   "source": [
    "import numpy as np"
   ]
  },
  {
   "cell_type": "code",
   "execution_count": 0,
   "metadata": {
    "application/vnd.databricks.v1+cell": {
     "cellMetadata": {
      "byteLimit": 2048000,
      "rowLimit": 10000
     },
     "inputWidgets": {},
     "nuid": "b236d130-c0bf-475c-a9bd-9fefe80aa280",
     "showTitle": false,
     "title": ""
    }
   },
   "outputs": [
    {
     "output_type": "stream",
     "name": "stdout",
     "output_type": "stream",
     "text": [
      "Galaxy Andromeda 0 [0.9937067761988345,0.003222434896806035,0.003070788904359445]\nGalaxy Milky Way 0 [0.9898093683467263,0.005202656156286655,0.004987975496987217]\nGeography Australia 0 [0.9871614854529183,0.006502117576213563,0.0063363969708680615]\nGeography USA 2 [0.0023529432070026612,0.0026323279703929395,0.9950147288226044]\nGeography China 0 [0.989412686149623,0.0053768386712337414,0.00521047517914325]\nGeography Poland 1 [0.006001455286053941,0.9874343678198965,0.006564176894049612]\nAnimal Dog 1 [0.004551327107117809,0.9905321821225728,0.004916490770309439]\nAnimal Dog 1 [0.003298318187486556,0.9931378726872626,0.003563809125250942]\nGeography Washington State 2 [0.004583146966283936,0.005123159780008463,0.9902936932537076]\n"
     ]
    }
   ],
   "source": [
    "for topic in ( \n",
    "        topic_pipeline\n",
    "        .fit(articles)\n",
    "        .transform(articles)\n",
    "        .select('Topic','Object','topicDistribution')\n",
    "        .take(10)\n",
    "):\n",
    "    print(\n",
    "        topic.Topic\n",
    "        , topic.Object\n",
    "        , np.argmax(topic.topicDistribution)\n",
    "        , topic.topicDistribution\n",
    "    )"
   ]
  },
  {
   "cell_type": "markdown",
   "metadata": {
    "application/vnd.databricks.v1+cell": {
     "cellMetadata": {},
     "inputWidgets": {},
     "nuid": "e1dd1772-e38c-4101-a9ce-09b9106e50f1",
     "showTitle": false,
     "title": ""
    }
   },
   "source": [
    "## Task: Coin Change Problem"
   ]
  },
  {
   "cell_type": "code",
   "execution_count": 0,
   "metadata": {
    "application/vnd.databricks.v1+cell": {
     "cellMetadata": {
      "byteLimit": 2048000,
      "rowLimit": 10000
     },
     "inputWidgets": {},
     "nuid": "23d362ce-b68f-459f-af69-7b6ce636d723",
     "showTitle": false,
     "title": ""
    }
   },
   "outputs": [
    {
     "output_type": "display_data",
     "data": {
      "text/plain": [
       "\u001B[0;36m  File \u001B[0;32m<command-2698391064142211>:1\u001B[0;36m\u001B[0m\n",
       "\u001B[0;31m    val data = sc.textFile(\"dbfs:/FileStore/shared_uploads/harsh.sce21@sot.pdpu.ac.in/coints.txt\")\u001B[0m\n",
       "\u001B[0m        ^\u001B[0m\n",
       "\u001B[0;31mSyntaxError\u001B[0m\u001B[0;31m:\u001B[0m invalid syntax\n"
      ]
     },
     "metadata": {
      "application/vnd.databricks.v1+output": {
       "arguments": {},
       "data": "\u001B[0;36m  File \u001B[0;32m<command-2698391064142211>:1\u001B[0;36m\u001B[0m\n\u001B[0;31m    val data = sc.textFile(\"dbfs:/FileStore/shared_uploads/harsh.sce21@sot.pdpu.ac.in/coints.txt\")\u001B[0m\n\u001B[0m        ^\u001B[0m\n\u001B[0;31mSyntaxError\u001B[0m\u001B[0;31m:\u001B[0m invalid syntax\n",
       "errorSummary": "<span class='ansi-red-fg'>SyntaxError</span>: invalid syntax (<command-2698391064142211>, line 1)",
       "errorTraceType": "ansi",
       "metadata": {},
       "type": "ipynbError"
      }
     },
     "output_type": "display_data"
    }
   ],
   "source": [
    "val data = sc.textFile(\"dbfs:/FileStore/shared_uploads/harsh.sce21@sot.pdpu.ac.in/coints-1.txt\")"
   ]
  },
  {
   "cell_type": "code",
   "execution_count": 0,
   "metadata": {
    "application/vnd.databricks.v1+cell": {
     "cellMetadata": {},
     "inputWidgets": {},
     "nuid": "7092f56d-e6df-4178-afb2-ad43dd808e89",
     "showTitle": false,
     "title": ""
    }
   },
   "outputs": [],
   "source": []
  }
 ],
 "metadata": {
  "application/vnd.databricks.v1+notebook": {
   "dashboards": [],
   "language": "python",
   "notebookMetadata": {
    "pythonIndentUnit": 4
   },
   "notebookName": "Lab 7 Feature Extraction Continue Lab 6 21-02-24",
   "widgets": {}
  }
 },
 "nbformat": 4,
 "nbformat_minor": 0
}
