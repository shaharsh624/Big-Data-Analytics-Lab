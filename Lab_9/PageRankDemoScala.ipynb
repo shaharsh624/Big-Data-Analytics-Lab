{
 "cells": [
  {
   "cell_type": "raw",
   "id": "c718058e-ba6f-4227-a70f-2a916b7fb708",
   "metadata": {},
   "source": [
    "import org.apache.spark.HashPartitioner\n",
    "\n",
    "val links = sc"
   ]
  },
  {
   "cell_type": "code",
   "execution_count": null,
   "id": "3c802bb6-4c9a-473b-8339-178286c75d5d",
   "metadata": {},
   "outputs": [],
   "source": []
  },
  {
   "cell_type": "code",
   "execution_count": null,
   "id": "85539aa5-8eef-411d-a95d-0d4d55f98e36",
   "metadata": {},
   "outputs": [],
   "source": []
  }
 ],
 "metadata": {
  "kernelspec": {
   "display_name": "spylon-kernel",
   "language": "scala",
   "name": "spylon-kernel"
  },
  "language_info": {
   "codemirror_mode": "text/x-scala",
   "file_extension": ".scala",
   "help_links": [
    {
     "text": "MetaKernel Magics",
     "url": "https://metakernel.readthedocs.io/en/latest/source/README.html"
    }
   ],
   "mimetype": "text/x-scala",
   "name": "scala",
   "pygments_lexer": "scala",
   "version": "0.4.1"
  }
 },
 "nbformat": 4,
 "nbformat_minor": 5
}
